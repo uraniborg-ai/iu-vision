{
 "cells": [
  {
   "cell_type": "markdown",
   "metadata": {},
   "source": [
    "https://ollama.com/blog/llama3.2-vision\n"
   ]
  },
  {
   "cell_type": "markdown",
   "metadata": {
    "id": "9et0RmrM-eA7"
   },
   "source": [
    "Ollama 설치\n",
    "\n",
    "```\n",
    "curl -fsSL https://ollama.com/install.sh | sh\n",
    "```\n",
    "\n",
    "Ollama 실행\n",
    "\n",
    "```\n",
    "OLLAMA_MODELS=/content/drive/MyDrive/IU-AI/Vision/ollama_models ollama serve\n",
    "```\n",
    "\n",
    "Llama3.2-Vision 모델 가져오기\n",
    "\n",
    "```\n",
    "ollama pull llama3.2-vision\n",
    "```\n"
   ]
  },
  {
   "cell_type": "code",
   "execution_count": null,
   "metadata": {},
   "outputs": [],
   "source": [
    "!pip install ollama"
   ]
  },
  {
   "cell_type": "code",
   "execution_count": null,
   "metadata": {
    "id": "qlEWI9WkBcxQ"
   },
   "outputs": [],
   "source": [
    "import os\n",
    "os.environ['OLLAMA_HOST'] = '127.0.0.1:11434'"
   ]
  },
  {
   "cell_type": "code",
   "execution_count": null,
   "metadata": {
    "colab": {
     "base_uri": "https://localhost:8080/"
    },
    "executionInfo": {
     "elapsed": 28139,
     "status": "ok",
     "timestamp": 1738471965445,
     "user": {
      "displayName": "Hyounggyu Kim",
      "userId": "06810140716652608120"
     },
     "user_tz": -540
    },
    "id": "vBcXyniB-ThT",
    "outputId": "c0a139c9-899c-467a-eac5-fcb0ab80a120"
   },
   "outputs": [],
   "source": [
    "from google.colab import drive\n",
    "drive.mount('/content/drive')"
   ]
  },
  {
   "cell_type": "code",
   "execution_count": 30,
   "metadata": {
    "executionInfo": {
     "elapsed": 1191,
     "status": "ok",
     "timestamp": 1738474911590,
     "user": {
      "displayName": "Hyounggyu Kim",
      "userId": "06810140716652608120"
     },
     "user_tz": -540
    },
    "id": "nZGsFtKXCuqO"
   },
   "outputs": [],
   "source": [
    "import ollama\n",
    "\n",
    "import numpy as np\n",
    "from PIL import Image\n",
    "\n",
    "import matplotlib.pyplot as plt"
   ]
  },
  {
   "cell_type": "code",
   "execution_count": null,
   "metadata": {
    "id": "06znbeP2DGSc"
   },
   "outputs": [],
   "source": [
    "DATA_ROOT_PATH = \"/content/drive/MyDrive/IU-AI/Vision/\""
   ]
  },
  {
   "cell_type": "code",
   "execution_count": null,
   "metadata": {
    "id": "LFmxzw6LDQud"
   },
   "outputs": [],
   "source": [
    "im = Image.open(f\"{DATA_ROOT_PATH}/Example1/webcam.png\")"
   ]
  },
  {
   "cell_type": "code",
   "execution_count": null,
   "metadata": {
    "colab": {
     "base_uri": "https://localhost:8080/",
     "height": 363
    },
    "executionInfo": {
     "elapsed": 1578,
     "status": "ok",
     "timestamp": 1738474516561,
     "user": {
      "displayName": "Hyounggyu Kim",
      "userId": "06810140716652608120"
     },
     "user_tz": -540
    },
    "id": "rqIwjIvzJ8bQ",
    "outputId": "355fe094-5a66-422b-cb46-e8815bb4a143"
   },
   "outputs": [],
   "source": [
    "plt.imshow(np.asarray(im))"
   ]
  },
  {
   "cell_type": "code",
   "execution_count": 31,
   "metadata": {
    "executionInfo": {
     "elapsed": 3,
     "status": "ok",
     "timestamp": 1738475260692,
     "user": {
      "displayName": "Hyounggyu Kim",
      "userId": "06810140716652608120"
     },
     "user_tz": -540
    },
    "id": "y-3myjfZJSJe"
   },
   "outputs": [],
   "source": [
    "# Crop the image\n",
    "# Define the cropping box (left, upper, right, lower)\n",
    "# Example: Crop the image from pixel (100, 100) to (300, 300)\n",
    "left = 1000\n",
    "upper = 100\n",
    "right = 1500\n",
    "lower = 600\n",
    "cropped_im = im.crop((left, upper, right, lower))\n",
    "\n",
    "# Save the cropped image\n",
    "cropped_im.save(f\"{DATA_ROOT_PATH}/Example1/cropped_webcam.png\")"
   ]
  },
  {
   "cell_type": "code",
   "execution_count": null,
   "metadata": {
    "colab": {
     "base_uri": "https://localhost:8080/",
     "height": 453
    },
    "executionInfo": {
     "elapsed": 1910,
     "status": "ok",
     "timestamp": 1738474684748,
     "user": {
      "displayName": "Hyounggyu Kim",
      "userId": "06810140716652608120"
     },
     "user_tz": -540
    },
    "id": "0a5vZwMAKjBP",
    "outputId": "606a7c3a-d6d1-40fb-84cc-4af8541380af"
   },
   "outputs": [],
   "source": [
    "plt.imshow(np.asarray(cropped_im))"
   ]
  },
  {
   "cell_type": "code",
   "execution_count": null,
   "metadata": {
    "id": "zsGaDu2vDqnr"
   },
   "outputs": [],
   "source": [
    "PROMPT = \"\"\"Please analyze the two meter images shown - one positioned above and one below. Extract the numerical readings displayed on the front panel of each meter and format them into JSON.\n",
    "\n",
    "Requirements:\n",
    "1. Extract all visible numerical digits from the front display of each meter\n",
    "2. Create a JSON object with two keys: \"upper\" and \"lower\"\n",
    "3. Store the corresponding numerical readings as float values\n",
    "4. Maintain the exact number of digits shown on each display\n",
    "\n",
    "Note: Please ensure all digits are clearly read and maintain their original sequence as shown on the displays.\n",
    "\n",
    "Use this JSON schema:\n",
    "\n",
    "Return: {'upper': number, 'lower': number}\n",
    "\"\"\""
   ]
  },
  {
   "cell_type": "code",
   "execution_count": null,
   "metadata": {
    "colab": {
     "base_uri": "https://localhost:8080/"
    },
    "executionInfo": {
     "elapsed": 21713,
     "status": "ok",
     "timestamp": 1738475307929,
     "user": {
      "displayName": "Hyounggyu Kim",
      "userId": "06810140716652608120"
     },
     "user_tz": -540
    },
    "id": "TsPXkO_XGzmf",
    "outputId": "b7ca67b0-dff7-4073-e54f-009e46ec050f"
   },
   "outputs": [],
   "source": [
    "response = ollama.chat(\n",
    "    model='llama3.2-vision',\n",
    "    messages=[{\n",
    "        'role': 'user',\n",
    "        'content': PROMPT,\n",
    "        'images': [f\"{DATA_ROOT_PATH}/Example1/cropped_webcam.png\"]\n",
    "    }]\n",
    ")\n",
    "\n",
    "print(response)"
   ]
  },
  {
   "cell_type": "code",
   "execution_count": null,
   "metadata": {
    "colab": {
     "base_uri": "https://localhost:8080/"
    },
    "executionInfo": {
     "elapsed": 3,
     "status": "ok",
     "timestamp": 1738475307929,
     "user": {
      "displayName": "Hyounggyu Kim",
      "userId": "06810140716652608120"
     },
     "user_tz": -540
    },
    "id": "51vh2jCgG4e8",
    "outputId": "d66316f4-f9d1-4f8c-cbfb-da7314c6a598"
   },
   "outputs": [],
   "source": [
    "print(response.message.content)"
   ]
  },
  {
   "cell_type": "code",
   "execution_count": null,
   "metadata": {
    "id": "ANZzeAs0I0eo"
   },
   "outputs": [],
   "source": []
  }
 ],
 "metadata": {
  "accelerator": "GPU",
  "colab": {
   "authorship_tag": "ABX9TyNzqNrcZXIlIPN8aRW+H260",
   "gpuType": "L4",
   "machine_shape": "hm",
   "provenance": []
  },
  "kernelspec": {
   "display_name": "Python 3",
   "name": "python3"
  },
  "language_info": {
   "name": "python"
  }
 },
 "nbformat": 4,
 "nbformat_minor": 0
}
